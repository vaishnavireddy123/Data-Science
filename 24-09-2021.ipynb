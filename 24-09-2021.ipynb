{
 "cells": [
  {
   "cell_type": "markdown",
   "id": "10a60070",
   "metadata": {},
   "source": [
    "Day Objectives\n",
    "\n",
    "\n",
    "Dictionary\n",
    "\n",
    "-  Dictionary in python is an unordered collection of data values,used to store data values\n",
    "-  Dictionary holds key:value pair\n",
    "-  changeable and does not  allow duplicates."
   ]
  },
  {
   "cell_type": "markdown",
   "id": "3b23203f",
   "metadata": {},
   "source": [
    "Sets"
   ]
  },
  {
   "cell_type": "markdown",
   "id": "bfd1e3da",
   "metadata": {},
   "source": [
    "Tuples"
   ]
  },
  {
   "cell_type": "code",
   "execution_count": 1,
   "id": "8f729d64",
   "metadata": {},
   "outputs": [
    {
     "name": "stdout",
     "output_type": "stream",
     "text": [
      "{}\n"
     ]
    }
   ],
   "source": [
    "# Creating Dict\n",
    "di = dict()\n",
    "print(di)"
   ]
  },
  {
   "cell_type": "code",
   "execution_count": 2,
   "id": "b39fa62d",
   "metadata": {},
   "outputs": [
    {
     "name": "stdout",
     "output_type": "stream",
     "text": [
      "{}\n"
     ]
    }
   ],
   "source": [
    "d1 = {}\n",
    "print(d1)"
   ]
  },
  {
   "cell_type": "code",
   "execution_count": 3,
   "id": "5996049e",
   "metadata": {},
   "outputs": [
    {
     "data": {
      "text/plain": [
       "{1: 'Gowtham', 2: 'Srikanth', 3: 'Supriya'}"
      ]
     },
     "execution_count": 3,
     "metadata": {},
     "output_type": "execute_result"
    }
   ],
   "source": [
    "d1 = {1 : \"Gowtham\" , 2 : \"Srikanth\" , 3 : \"Supriya\" }\n",
    "d1"
   ]
  },
  {
   "cell_type": "code",
   "execution_count": 4,
   "id": "ae868c21",
   "metadata": {},
   "outputs": [
    {
     "data": {
      "text/plain": [
       "41"
      ]
     },
     "execution_count": 4,
     "metadata": {},
     "output_type": "execute_result"
    }
   ],
   "source": [
    "len(dir(d1))"
   ]
  },
  {
   "cell_type": "code",
   "execution_count": 5,
   "id": "1ab82779",
   "metadata": {},
   "outputs": [
    {
     "data": {
      "text/plain": [
       "['__class__',\n",
       " '__contains__',\n",
       " '__delattr__',\n",
       " '__delitem__',\n",
       " '__dir__',\n",
       " '__doc__',\n",
       " '__eq__',\n",
       " '__format__',\n",
       " '__ge__',\n",
       " '__getattribute__',\n",
       " '__getitem__',\n",
       " '__gt__',\n",
       " '__hash__',\n",
       " '__init__',\n",
       " '__init_subclass__',\n",
       " '__iter__',\n",
       " '__le__',\n",
       " '__len__',\n",
       " '__lt__',\n",
       " '__ne__',\n",
       " '__new__',\n",
       " '__reduce__',\n",
       " '__reduce_ex__',\n",
       " '__repr__',\n",
       " '__reversed__',\n",
       " '__setattr__',\n",
       " '__setitem__',\n",
       " '__sizeof__',\n",
       " '__str__',\n",
       " '__subclasshook__',\n",
       " 'clear',\n",
       " 'copy',\n",
       " 'fromkeys',\n",
       " 'get',\n",
       " 'items',\n",
       " 'keys',\n",
       " 'pop',\n",
       " 'popitem',\n",
       " 'setdefault',\n",
       " 'update',\n",
       " 'values']"
      ]
     },
     "execution_count": 5,
     "metadata": {},
     "output_type": "execute_result"
    }
   ],
   "source": [
    "dir(d1)"
   ]
  },
  {
   "cell_type": "code",
   "execution_count": 6,
   "id": "5077801f",
   "metadata": {},
   "outputs": [
    {
     "data": {
      "text/plain": [
       "'Srikanth'"
      ]
     },
     "execution_count": 6,
     "metadata": {},
     "output_type": "execute_result"
    }
   ],
   "source": [
    "# Accessing value from key/index\n",
    "d1[2]"
   ]
  },
  {
   "cell_type": "code",
   "execution_count": 7,
   "id": "12467efd",
   "metadata": {},
   "outputs": [
    {
     "data": {
      "text/plain": [
       "'Supriya'"
      ]
     },
     "execution_count": 7,
     "metadata": {},
     "output_type": "execute_result"
    }
   ],
   "source": [
    "d1[3]"
   ]
  },
  {
   "cell_type": "code",
   "execution_count": 8,
   "id": "505127f5",
   "metadata": {},
   "outputs": [
    {
     "ename": "KeyError",
     "evalue": "-1",
     "output_type": "error",
     "traceback": [
      "\u001b[1;31m---------------------------------------------------------------------------\u001b[0m",
      "\u001b[1;31mKeyError\u001b[0m                                  Traceback (most recent call last)",
      "\u001b[1;32m<ipython-input-8-120d9341fd18>\u001b[0m in \u001b[0;36m<module>\u001b[1;34m\u001b[0m\n\u001b[1;32m----> 1\u001b[1;33m \u001b[0md1\u001b[0m\u001b[1;33m[\u001b[0m\u001b[1;33m-\u001b[0m\u001b[1;36m1\u001b[0m\u001b[1;33m]\u001b[0m\u001b[1;33m\u001b[0m\u001b[1;33m\u001b[0m\u001b[0m\n\u001b[0m",
      "\u001b[1;31mKeyError\u001b[0m: -1"
     ]
    }
   ],
   "source": [
    "d1[-1]"
   ]
  },
  {
   "cell_type": "code",
   "execution_count": 9,
   "id": "72ad87de",
   "metadata": {},
   "outputs": [
    {
     "data": {
      "text/plain": [
       "dict_keys([1, 2, 3])"
      ]
     },
     "execution_count": 9,
     "metadata": {},
     "output_type": "execute_result"
    }
   ],
   "source": [
    "# get all keys\n",
    "d1.keys()"
   ]
  },
  {
   "cell_type": "code",
   "execution_count": 10,
   "id": "da66d66e",
   "metadata": {},
   "outputs": [
    {
     "data": {
      "text/plain": [
       "dict_values(['Gowtham', 'Srikanth', 'Supriya'])"
      ]
     },
     "execution_count": 10,
     "metadata": {},
     "output_type": "execute_result"
    }
   ],
   "source": [
    "d1.values()"
   ]
  },
  {
   "cell_type": "code",
   "execution_count": 11,
   "id": "dd4ccf8c",
   "metadata": {},
   "outputs": [
    {
     "data": {
      "text/plain": [
       "dict_values"
      ]
     },
     "execution_count": 11,
     "metadata": {},
     "output_type": "execute_result"
    }
   ],
   "source": [
    "type(d1.values())"
   ]
  },
  {
   "cell_type": "code",
   "execution_count": 12,
   "id": "0dcecf92",
   "metadata": {},
   "outputs": [
    {
     "data": {
      "text/plain": [
       "['Gowtham', 'Srikanth', 'Supriya']"
      ]
     },
     "execution_count": 12,
     "metadata": {},
     "output_type": "execute_result"
    }
   ],
   "source": [
    "list(d1.values())  #applied type casting"
   ]
  },
  {
   "cell_type": "code",
   "execution_count": 13,
   "id": "44fb56a3",
   "metadata": {},
   "outputs": [
    {
     "data": {
      "text/plain": [
       "dict_items([(1, 'Gowtham'), (2, 'Srikanth'), (3, 'Supriya')])"
      ]
     },
     "execution_count": 13,
     "metadata": {},
     "output_type": "execute_result"
    }
   ],
   "source": [
    "d1.items()  #item means key,value pair"
   ]
  },
  {
   "cell_type": "code",
   "execution_count": 14,
   "id": "d781b1bb",
   "metadata": {},
   "outputs": [],
   "source": [
    "d2={\"Name\" : \"Akbar\" , \"Pin\": 123, \"Gender\" : \"Male\"}"
   ]
  },
  {
   "cell_type": "code",
   "execution_count": 15,
   "id": "b4515505",
   "metadata": {},
   "outputs": [
    {
     "data": {
      "text/plain": [
       "123"
      ]
     },
     "execution_count": 15,
     "metadata": {},
     "output_type": "execute_result"
    }
   ],
   "source": [
    "d2[\"Pin\"]"
   ]
  },
  {
   "cell_type": "code",
   "execution_count": 16,
   "id": "8c0fd6cb",
   "metadata": {},
   "outputs": [
    {
     "ename": "KeyError",
     "evalue": "1",
     "output_type": "error",
     "traceback": [
      "\u001b[1;31m---------------------------------------------------------------------------\u001b[0m",
      "\u001b[1;31mKeyError\u001b[0m                                  Traceback (most recent call last)",
      "\u001b[1;32m<ipython-input-16-eaa39258eabf>\u001b[0m in \u001b[0;36m<module>\u001b[1;34m\u001b[0m\n\u001b[1;32m----> 1\u001b[1;33m \u001b[0md2\u001b[0m\u001b[1;33m[\u001b[0m\u001b[1;36m1\u001b[0m\u001b[1;33m]\u001b[0m\u001b[1;33m\u001b[0m\u001b[1;33m\u001b[0m\u001b[0m\n\u001b[0m",
      "\u001b[1;31mKeyError\u001b[0m: 1"
     ]
    }
   ],
   "source": [
    "d2[1]"
   ]
  },
  {
   "cell_type": "code",
   "execution_count": 17,
   "id": "33866afa",
   "metadata": {},
   "outputs": [
    {
     "name": "stdout",
     "output_type": "stream",
     "text": [
      "shaik\n"
     ]
    },
    {
     "data": {
      "text/plain": [
       "'shaik'"
      ]
     },
     "execution_count": 17,
     "metadata": {},
     "output_type": "execute_result"
    }
   ],
   "source": [
    "d3 = {\"Name\" : \"Akbar\" , \"Pin\": 123 , \"Gender\" : \"Male\" , \"Name\" : \"shaik\"}\n",
    "print(d3[\"Name\"])\n",
    "d3[\"Name\"]\n",
    "# Dict not allows any duplicated data"
   ]
  },
  {
   "cell_type": "code",
   "execution_count": 18,
   "id": "4eb39119",
   "metadata": {},
   "outputs": [
    {
     "name": "stdout",
     "output_type": "stream",
     "text": [
      "Akbar\n",
      "Akbar\n"
     ]
    }
   ],
   "source": [
    "d2 = {\"Name\" : \"Akbar\" , \"Pin\":123, \"Gender\" : \"Male\" , \"name\" :\"Akbar\"}\n",
    "print(d2[\"Name\"])\n",
    "print(d2[\"name\"])\n",
    "# keys always unique, values can't"
   ]
  },
  {
   "cell_type": "code",
   "execution_count": 20,
   "id": "84e86753",
   "metadata": {},
   "outputs": [
    {
     "data": {
      "text/plain": [
       "56"
      ]
     },
     "execution_count": 20,
     "metadata": {},
     "output_type": "execute_result"
    }
   ],
   "source": [
    "d2 = {\"Name\" : \"Akbar\" ,\"Pin\": 123, \"Gender\" : \"Male\", \"name\" : \"Akbar\", 'marks' :[89,78,56]}\n",
    "d2[\"marks\"][-1]"
   ]
  },
  {
   "cell_type": "code",
   "execution_count": 21,
   "id": "b1359538",
   "metadata": {},
   "outputs": [
    {
     "data": {
      "text/plain": [
       "225"
      ]
     },
     "execution_count": 21,
     "metadata": {},
     "output_type": "execute_result"
    }
   ],
   "source": [
    "d3={\"maths\" : 100, \"Python\":90,\"science\" :35}\n",
    "# addition\n",
    "sum(d3.values())"
   ]
  },
  {
   "cell_type": "code",
   "execution_count": 23,
   "id": "24227b70",
   "metadata": {},
   "outputs": [
    {
     "data": {
      "text/plain": [
       "75.0"
      ]
     },
     "execution_count": 23,
     "metadata": {},
     "output_type": "execute_result"
    }
   ],
   "source": [
    "# Average\n",
    "sum(d3.values())/len(d3)"
   ]
  },
  {
   "cell_type": "code",
   "execution_count": 24,
   "id": "4402cbc8",
   "metadata": {},
   "outputs": [],
   "source": [
    "# update 45\n",
    "d3[\"science\"] = 45"
   ]
  },
  {
   "cell_type": "code",
   "execution_count": 25,
   "id": "f3862c6a",
   "metadata": {},
   "outputs": [
    {
     "data": {
      "text/plain": [
       "{'maths': 100, 'Python': 90, 'science': 45}"
      ]
     },
     "execution_count": 25,
     "metadata": {},
     "output_type": "execute_result"
    }
   ],
   "source": [
    "d3"
   ]
  },
  {
   "cell_type": "code",
   "execution_count": 26,
   "id": "1346954e",
   "metadata": {},
   "outputs": [],
   "source": [
    "d3[\"Hindi\"] = 28\n",
    "# adding new item"
   ]
  },
  {
   "cell_type": "code",
   "execution_count": 27,
   "id": "7fb4bfac",
   "metadata": {},
   "outputs": [
    {
     "data": {
      "text/plain": [
       "{'maths': 100, 'Python': 90, 'science': 45, 'Hindi': 28}"
      ]
     },
     "execution_count": 27,
     "metadata": {},
     "output_type": "execute_result"
    }
   ],
   "source": [
    "d3"
   ]
  },
  {
   "cell_type": "code",
   "execution_count": 28,
   "id": "d52ba574",
   "metadata": {},
   "outputs": [
    {
     "data": {
      "text/plain": [
       "90"
      ]
     },
     "execution_count": 28,
     "metadata": {},
     "output_type": "execute_result"
    }
   ],
   "source": [
    "d3.pop(\"Python\")"
   ]
  },
  {
   "cell_type": "code",
   "execution_count": 29,
   "id": "cabfd971",
   "metadata": {},
   "outputs": [
    {
     "data": {
      "text/plain": [
       "{'maths': 100, 'science': 45, 'Hindi': 28}"
      ]
     },
     "execution_count": 29,
     "metadata": {},
     "output_type": "execute_result"
    }
   ],
   "source": [
    "d3"
   ]
  },
  {
   "cell_type": "code",
   "execution_count": 30,
   "id": "4970bcad",
   "metadata": {},
   "outputs": [
    {
     "data": {
      "text/plain": [
       "('Hindi', 28)"
      ]
     },
     "execution_count": 30,
     "metadata": {},
     "output_type": "execute_result"
    }
   ],
   "source": [
    "d3.popitem()  # it will delete last one"
   ]
  },
  {
   "cell_type": "code",
   "execution_count": 31,
   "id": "8bf1cac2",
   "metadata": {},
   "outputs": [
    {
     "data": {
      "text/plain": [
       "{'maths': 100, 'science': 45}"
      ]
     },
     "execution_count": 31,
     "metadata": {},
     "output_type": "execute_result"
    }
   ],
   "source": [
    "d3"
   ]
  },
  {
   "cell_type": "code",
   "execution_count": 32,
   "id": "97cbd454",
   "metadata": {},
   "outputs": [
    {
     "data": {
      "text/plain": [
       "['__class__',\n",
       " '__contains__',\n",
       " '__delattr__',\n",
       " '__delitem__',\n",
       " '__dir__',\n",
       " '__doc__',\n",
       " '__eq__',\n",
       " '__format__',\n",
       " '__ge__',\n",
       " '__getattribute__',\n",
       " '__getitem__',\n",
       " '__gt__',\n",
       " '__hash__',\n",
       " '__init__',\n",
       " '__init_subclass__',\n",
       " '__iter__',\n",
       " '__le__',\n",
       " '__len__',\n",
       " '__lt__',\n",
       " '__ne__',\n",
       " '__new__',\n",
       " '__reduce__',\n",
       " '__reduce_ex__',\n",
       " '__repr__',\n",
       " '__reversed__',\n",
       " '__setattr__',\n",
       " '__setitem__',\n",
       " '__sizeof__',\n",
       " '__str__',\n",
       " '__subclasshook__',\n",
       " 'clear',\n",
       " 'copy',\n",
       " 'fromkeys',\n",
       " 'get',\n",
       " 'items',\n",
       " 'keys',\n",
       " 'pop',\n",
       " 'popitem',\n",
       " 'setdefault',\n",
       " 'update',\n",
       " 'values']"
      ]
     },
     "execution_count": 32,
     "metadata": {},
     "output_type": "execute_result"
    }
   ],
   "source": [
    "dir(d3)"
   ]
  },
  {
   "cell_type": "code",
   "execution_count": 33,
   "id": "f7b9ad93",
   "metadata": {},
   "outputs": [],
   "source": [
    "# Clear\n",
    "d3.clear()"
   ]
  },
  {
   "cell_type": "code",
   "execution_count": 34,
   "id": "6813a3dc",
   "metadata": {},
   "outputs": [
    {
     "data": {
      "text/plain": [
       "{}"
      ]
     },
     "execution_count": 34,
     "metadata": {},
     "output_type": "execute_result"
    }
   ],
   "source": [
    "d3"
   ]
  },
  {
   "cell_type": "code",
   "execution_count": 35,
   "id": "0f6f5aa2",
   "metadata": {},
   "outputs": [],
   "source": [
    "# del\n",
    "d4 = {'maths': 100, 'Python':90,'science': 45}\n",
    "del d4"
   ]
  },
  {
   "cell_type": "code",
   "execution_count": 36,
   "id": "3cef18c2",
   "metadata": {},
   "outputs": [
    {
     "ename": "NameError",
     "evalue": "name 'd4' is not defined",
     "output_type": "error",
     "traceback": [
      "\u001b[1;31m---------------------------------------------------------------------------\u001b[0m",
      "\u001b[1;31mNameError\u001b[0m                                 Traceback (most recent call last)",
      "\u001b[1;32m<ipython-input-36-f31f801fae72>\u001b[0m in \u001b[0;36m<module>\u001b[1;34m\u001b[0m\n\u001b[1;32m----> 1\u001b[1;33m \u001b[0md4\u001b[0m\u001b[1;33m\u001b[0m\u001b[1;33m\u001b[0m\u001b[0m\n\u001b[0m",
      "\u001b[1;31mNameError\u001b[0m: name 'd4' is not defined"
     ]
    }
   ],
   "source": [
    "d4"
   ]
  },
  {
   "cell_type": "code",
   "execution_count": 37,
   "id": "139b4853",
   "metadata": {},
   "outputs": [],
   "source": [
    "d5={'maths':100, 'python':90,'science':45}"
   ]
  },
  {
   "cell_type": "code",
   "execution_count": 38,
   "id": "2f36ae61",
   "metadata": {},
   "outputs": [],
   "source": [
    "d6 = dict()"
   ]
  },
  {
   "cell_type": "code",
   "execution_count": 39,
   "id": "63a3c0d5",
   "metadata": {},
   "outputs": [],
   "source": [
    "d6 = d5.copy()"
   ]
  },
  {
   "cell_type": "code",
   "execution_count": 40,
   "id": "d178da23",
   "metadata": {},
   "outputs": [
    {
     "data": {
      "text/plain": [
       "{'maths': 100, 'python': 90, 'science': 45}"
      ]
     },
     "execution_count": 40,
     "metadata": {},
     "output_type": "execute_result"
    }
   ],
   "source": [
    "d6"
   ]
  },
  {
   "cell_type": "code",
   "execution_count": 41,
   "id": "1273e3da",
   "metadata": {},
   "outputs": [
    {
     "data": {
      "text/plain": [
       "{'maths': 100, 'python': 90, 'science': 45, 'English': 90}"
      ]
     },
     "execution_count": 41,
     "metadata": {},
     "output_type": "execute_result"
    }
   ],
   "source": [
    "d5[\"English\"]=90\n",
    "d5"
   ]
  },
  {
   "cell_type": "code",
   "execution_count": 42,
   "id": "2671e635",
   "metadata": {},
   "outputs": [
    {
     "data": {
      "text/plain": [
       "{'maths': 100, 'python': 90, 'science': 45}"
      ]
     },
     "execution_count": 42,
     "metadata": {},
     "output_type": "execute_result"
    }
   ],
   "source": [
    "d6"
   ]
  },
  {
   "cell_type": "code",
   "execution_count": 44,
   "id": "96d9ddf2",
   "metadata": {},
   "outputs": [
    {
     "data": {
      "text/plain": [
       "{1: 'SDC', 2: 'SDC', 3: 'SDC', 4: 'SDC', 5: 'SDC'}"
      ]
     },
     "execution_count": 44,
     "metadata": {},
     "output_type": "execute_result"
    }
   ],
   "source": [
    "# fromkeys\n",
    "l1 = [1,2,3,4,5]\n",
    "l2 = \"SDC\"\n",
    "d7 = {}\n",
    "d7 = d7.fromkeys(l1,l2)\n",
    "d7"
   ]
  },
  {
   "cell_type": "code",
   "execution_count": 45,
   "id": "64ca894b",
   "metadata": {},
   "outputs": [
    {
     "name": "stdout",
     "output_type": "stream",
     "text": [
      "Help on method_descriptor:\n",
      "\n",
      "get(self, key, default=None, /)\n",
      "    Return the value for key if key is in the dictionary, else default.\n",
      "\n"
     ]
    }
   ],
   "source": [
    "help(dict.get)"
   ]
  },
  {
   "cell_type": "code",
   "execution_count": 46,
   "id": "5003e906",
   "metadata": {},
   "outputs": [
    {
     "data": {
      "text/plain": [
       "'SDC'"
      ]
     },
     "execution_count": 46,
     "metadata": {},
     "output_type": "execute_result"
    }
   ],
   "source": [
    "d7.get(3)"
   ]
  },
  {
   "cell_type": "code",
   "execution_count": 47,
   "id": "d14cb55c",
   "metadata": {},
   "outputs": [
    {
     "data": {
      "text/plain": [
       "'SDC'"
      ]
     },
     "execution_count": 47,
     "metadata": {},
     "output_type": "execute_result"
    }
   ],
   "source": [
    "d7[3]"
   ]
  },
  {
   "cell_type": "code",
   "execution_count": 48,
   "id": "69716a88",
   "metadata": {},
   "outputs": [],
   "source": [
    "d7.get(9) # if it's not there then it won't return anything"
   ]
  },
  {
   "cell_type": "code",
   "execution_count": 49,
   "id": "ae8e9538",
   "metadata": {},
   "outputs": [
    {
     "ename": "KeyError",
     "evalue": "9",
     "output_type": "error",
     "traceback": [
      "\u001b[1;31m---------------------------------------------------------------------------\u001b[0m",
      "\u001b[1;31mKeyError\u001b[0m                                  Traceback (most recent call last)",
      "\u001b[1;32m<ipython-input-49-581a171a300d>\u001b[0m in \u001b[0;36m<module>\u001b[1;34m\u001b[0m\n\u001b[1;32m----> 1\u001b[1;33m \u001b[0md7\u001b[0m\u001b[1;33m[\u001b[0m\u001b[1;36m9\u001b[0m\u001b[1;33m]\u001b[0m\u001b[1;33m\u001b[0m\u001b[1;33m\u001b[0m\u001b[0m\n\u001b[0m",
      "\u001b[1;31mKeyError\u001b[0m: 9"
     ]
    }
   ],
   "source": [
    "d7[9]"
   ]
  },
  {
   "cell_type": "code",
   "execution_count": 50,
   "id": "057623d0",
   "metadata": {},
   "outputs": [
    {
     "data": {
      "text/plain": [
       "'SDC'"
      ]
     },
     "execution_count": 50,
     "metadata": {},
     "output_type": "execute_result"
    }
   ],
   "source": [
    "# setdefault\n",
    "d7.setdefault(3)"
   ]
  },
  {
   "cell_type": "code",
   "execution_count": 51,
   "id": "5d97af51",
   "metadata": {},
   "outputs": [
    {
     "data": {
      "text/plain": [
       "{1: 'SDC', 2: 'SDC', 3: 'SDC', 4: 'SDC', 5: 'SDC'}"
      ]
     },
     "execution_count": 51,
     "metadata": {},
     "output_type": "execute_result"
    }
   ],
   "source": [
    "d7"
   ]
  },
  {
   "cell_type": "code",
   "execution_count": 52,
   "id": "3f3c2296",
   "metadata": {},
   "outputs": [
    {
     "data": {
      "text/plain": [
       "'SDC'"
      ]
     },
     "execution_count": 52,
     "metadata": {},
     "output_type": "execute_result"
    }
   ],
   "source": [
    "v = d7.setdefault(4)\n",
    "v"
   ]
  },
  {
   "cell_type": "code",
   "execution_count": 53,
   "id": "a85bdd59",
   "metadata": {},
   "outputs": [
    {
     "data": {
      "text/plain": [
       "{1: 'SDC', 2: 'SDC', 3: 'SDC', 4: 'SDC', 5: 'SDC', 9: None}"
      ]
     },
     "execution_count": 53,
     "metadata": {},
     "output_type": "execute_result"
    }
   ],
   "source": [
    "d7.setdefault(9)\n",
    "d7"
   ]
  },
  {
   "cell_type": "code",
   "execution_count": 54,
   "id": "9b54cb1a",
   "metadata": {},
   "outputs": [
    {
     "data": {
      "text/plain": [
       "{1: 'SDC', 2: 'SDC', 3: 'SDC', 4: 'SDC', 5: 'SDC', 9: None, 'per': None}"
      ]
     },
     "execution_count": 54,
     "metadata": {},
     "output_type": "execute_result"
    }
   ],
   "source": [
    "d7.setdefault(\"per\")\n",
    "d7"
   ]
  },
  {
   "cell_type": "code",
   "execution_count": 55,
   "id": "045259ab",
   "metadata": {},
   "outputs": [],
   "source": [
    "d7.update?"
   ]
  },
  {
   "cell_type": "code",
   "execution_count": 56,
   "id": "522e7c8e",
   "metadata": {},
   "outputs": [
    {
     "data": {
      "text/plain": [
       "{1: 'SDC', 2: 'SDC', 3: 'SDC', 4: 'SDC', 5: 'APSSDC', 9: None, 'per': None}"
      ]
     },
     "execution_count": 56,
     "metadata": {},
     "output_type": "execute_result"
    }
   ],
   "source": [
    "d7[5] = \"APSSDC\"\n",
    "d7"
   ]
  },
  {
   "cell_type": "code",
   "execution_count": 57,
   "id": "a42b1bf0",
   "metadata": {},
   "outputs": [
    {
     "name": "stdout",
     "output_type": "stream",
     "text": [
      "Help on method_descriptor:\n",
      "\n",
      "update(...)\n",
      "    D.update([E, ]**F) -> None.  Update D from dict/iterable E and F.\n",
      "    If E is present and has a .keys() method, then does:  for k in E: D[k] = E[k]\n",
      "    If E is present and lacks a .keys() method, then does:  for k, v in E: D[k] = v\n",
      "    In either case, this is followed by: for k in F:  D[k] = F[k]\n",
      "\n"
     ]
    }
   ],
   "source": [
    "help(dict.update)"
   ]
  },
  {
   "cell_type": "code",
   "execution_count": 58,
   "id": "ea9efd95",
   "metadata": {},
   "outputs": [],
   "source": [
    "d7.update({5:\"Apssdc\"})"
   ]
  },
  {
   "cell_type": "code",
   "execution_count": 59,
   "id": "def41d43",
   "metadata": {},
   "outputs": [
    {
     "data": {
      "text/plain": [
       "{1: 'SDC', 2: 'SDC', 3: 'SDC', 4: 'SDC', 5: 'Apssdc', 9: None, 'per': None}"
      ]
     },
     "execution_count": 59,
     "metadata": {},
     "output_type": "execute_result"
    }
   ],
   "source": [
    "d7"
   ]
  },
  {
   "cell_type": "code",
   "execution_count": 60,
   "id": "1f8f5fca",
   "metadata": {},
   "outputs": [],
   "source": [
    "d8 = {'maths': 100,'python':90,'science': 45, 'English':90}"
   ]
  },
  {
   "cell_type": "code",
   "execution_count": 61,
   "id": "a9a39437",
   "metadata": {},
   "outputs": [
    {
     "data": {
      "text/plain": [
       "100"
      ]
     },
     "execution_count": 61,
     "metadata": {},
     "output_type": "execute_result"
    }
   ],
   "source": [
    "d8[\"maths\"]"
   ]
  },
  {
   "cell_type": "code",
   "execution_count": 62,
   "id": "193a7938",
   "metadata": {},
   "outputs": [
    {
     "name": "stdout",
     "output_type": "stream",
     "text": [
      "science\n"
     ]
    }
   ],
   "source": [
    "#accessing key using value\n",
    "for key,val in d8.items():\n",
    "    #print(key,val)\n",
    "    if val == 45:\n",
    "        print(key)"
   ]
  },
  {
   "cell_type": "code",
   "execution_count": 63,
   "id": "9ec6c465",
   "metadata": {},
   "outputs": [
    {
     "data": {
      "text/plain": [
       "{12: ('M', 'L', 'P', 'U', 'T', 'I'),\n",
       " 34: ('M', 'L', 'P', 'U', 'T', 'I'),\n",
       " 43: ('M', 'L', 'P', 'U', 'T', 'I'),\n",
       " 56: ('M', 'L', 'P', 'U', 'T', 'I'),\n",
       " 67: ('M', 'L', 'P', 'U', 'T', 'I'),\n",
       " 23: ('M', 'L', 'P', 'U', 'T', 'I')}"
      ]
     },
     "execution_count": 63,
     "metadata": {},
     "output_type": "execute_result"
    }
   ],
   "source": [
    "l = [12,34,43,56,67,23]\n",
    "t = (\"M\",\"L\",\"P\",\"U\",\"T\",\"I\")\n",
    "d9 = {}\n",
    "d9.fromkeys(l,t)"
   ]
  },
  {
   "cell_type": "code",
   "execution_count": 64,
   "id": "e600630a",
   "metadata": {},
   "outputs": [
    {
     "data": {
      "text/plain": [
       "{12: 'M', 34: 'L', 43: 'P', 56: 'U', 67: 'T', 23: 'I'}"
      ]
     },
     "execution_count": 64,
     "metadata": {},
     "output_type": "execute_result"
    }
   ],
   "source": [
    "for i in range(len(l)):\n",
    "    d9[l[i]] = t[i]\n",
    "d9    "
   ]
  },
  {
   "cell_type": "code",
   "execution_count": 65,
   "id": "cefd7ea8",
   "metadata": {},
   "outputs": [
    {
     "data": {
      "text/plain": [
       "[12, 23, 34, 43, 56, 67]"
      ]
     },
     "execution_count": 65,
     "metadata": {},
     "output_type": "execute_result"
    }
   ],
   "source": [
    "sorted(d9)"
   ]
  },
  {
   "cell_type": "code",
   "execution_count": 66,
   "id": "192db7cd",
   "metadata": {},
   "outputs": [
    {
     "data": {
      "text/plain": [
       "[67, 56, 43, 34, 23, 12]"
      ]
     },
     "execution_count": 66,
     "metadata": {},
     "output_type": "execute_result"
    }
   ],
   "source": [
    "sorted(d9, reverse = True)"
   ]
  },
  {
   "cell_type": "code",
   "execution_count": 67,
   "id": "e262fb7c",
   "metadata": {},
   "outputs": [
    {
     "data": {
      "text/plain": [
       "True"
      ]
     },
     "execution_count": 67,
     "metadata": {},
     "output_type": "execute_result"
    }
   ],
   "source": [
    "34 in d9"
   ]
  },
  {
   "cell_type": "code",
   "execution_count": 68,
   "id": "7b09c596",
   "metadata": {},
   "outputs": [
    {
     "data": {
      "text/plain": [
       "False"
      ]
     },
     "execution_count": 68,
     "metadata": {},
     "output_type": "execute_result"
    }
   ],
   "source": [
    "40 in d9"
   ]
  },
  {
   "cell_type": "markdown",
   "id": "f9cb4e74",
   "metadata": {},
   "source": [
    "Task:"
   ]
  },
  {
   "cell_type": "markdown",
   "id": "b977bfb7",
   "metadata": {},
   "source": [
    "- create one dict             \n",
    "- input string:\"APSSDC\"        \n",
    "- OUTPUT:{\"A\":1,\"P\":1,\"S\",:2,\"D\":1,\"C\":1}"
   ]
  },
  {
   "cell_type": "markdown",
   "id": "80e00f7d",
   "metadata": {},
   "source": [
    "Tuples\n",
    "\n",
    "\n",
    "\n"
   ]
  },
  {
   "cell_type": "markdown",
   "id": "037cd3dc",
   "metadata": {},
   "source": [
    "- tuple is immutable and ordered data    \n",
    "- itaration through a tuple is very fast compared to list \n",
    "- collection of different data types and separated by , with ()\n"
   ]
  },
  {
   "cell_type": "code",
   "execution_count": 2,
   "id": "6da6ed02",
   "metadata": {},
   "outputs": [
    {
     "data": {
      "text/plain": [
       "tuple"
      ]
     },
     "execution_count": 2,
     "metadata": {},
     "output_type": "execute_result"
    }
   ],
   "source": [
    "# creating an empty tuple\n",
    "t = ()\n",
    "type(t)"
   ]
  },
  {
   "cell_type": "code",
   "execution_count": 3,
   "id": "8540bb41",
   "metadata": {},
   "outputs": [
    {
     "data": {
      "text/plain": [
       "tuple"
      ]
     },
     "execution_count": 3,
     "metadata": {},
     "output_type": "execute_result"
    }
   ],
   "source": [
    "t = tuple()\n",
    "type(t)"
   ]
  },
  {
   "cell_type": "code",
   "execution_count": 4,
   "id": "8d21d278",
   "metadata": {},
   "outputs": [],
   "source": [
    "t1 = (12,334,45,56,56,56, \"string\", 345.435, 9j)"
   ]
  },
  {
   "cell_type": "code",
   "execution_count": 5,
   "id": "669efaac",
   "metadata": {},
   "outputs": [
    {
     "data": {
      "text/plain": [
       "(12, 334, 45, 56, 56, 56, 'string', 345.435, 9j)"
      ]
     },
     "execution_count": 5,
     "metadata": {},
     "output_type": "execute_result"
    }
   ],
   "source": [
    "t1"
   ]
  },
  {
   "cell_type": "code",
   "execution_count": 6,
   "id": "5c8fe085",
   "metadata": {},
   "outputs": [
    {
     "name": "stdout",
     "output_type": "stream",
     "text": [
      "12\n",
      "334\n",
      "45\n",
      "56\n",
      "56\n",
      "56\n",
      "string\n",
      "345.435\n",
      "9j\n"
     ]
    }
   ],
   "source": [
    "for i in t1:\n",
    "    print(i)"
   ]
  },
  {
   "cell_type": "code",
   "execution_count": 7,
   "id": "c7b37f0e",
   "metadata": {},
   "outputs": [
    {
     "data": {
      "text/plain": [
       "['__add__',\n",
       " '__class__',\n",
       " '__contains__',\n",
       " '__delattr__',\n",
       " '__dir__',\n",
       " '__doc__',\n",
       " '__eq__',\n",
       " '__format__',\n",
       " '__ge__',\n",
       " '__getattribute__',\n",
       " '__getitem__',\n",
       " '__getnewargs__',\n",
       " '__gt__',\n",
       " '__hash__',\n",
       " '__init__',\n",
       " '__init_subclass__',\n",
       " '__iter__',\n",
       " '__le__',\n",
       " '__len__',\n",
       " '__lt__',\n",
       " '__mul__',\n",
       " '__ne__',\n",
       " '__new__',\n",
       " '__reduce__',\n",
       " '__reduce_ex__',\n",
       " '__repr__',\n",
       " '__rmul__',\n",
       " '__setattr__',\n",
       " '__sizeof__',\n",
       " '__str__',\n",
       " '__subclasshook__',\n",
       " 'count',\n",
       " 'index']"
      ]
     },
     "execution_count": 7,
     "metadata": {},
     "output_type": "execute_result"
    }
   ],
   "source": [
    "dir(tuple)"
   ]
  },
  {
   "cell_type": "code",
   "execution_count": 8,
   "id": "b46ef2af",
   "metadata": {},
   "outputs": [
    {
     "data": {
      "text/plain": [
       "3"
      ]
     },
     "execution_count": 8,
     "metadata": {},
     "output_type": "execute_result"
    }
   ],
   "source": [
    "t1.count(56)"
   ]
  },
  {
   "cell_type": "code",
   "execution_count": 9,
   "id": "c95e0c6b",
   "metadata": {},
   "outputs": [
    {
     "data": {
      "text/plain": [
       "1"
      ]
     },
     "execution_count": 9,
     "metadata": {},
     "output_type": "execute_result"
    }
   ],
   "source": [
    "t1.count(45)"
   ]
  },
  {
   "cell_type": "code",
   "execution_count": 10,
   "id": "8ad36fc4",
   "metadata": {},
   "outputs": [
    {
     "data": {
      "text/plain": [
       "334"
      ]
     },
     "execution_count": 10,
     "metadata": {},
     "output_type": "execute_result"
    }
   ],
   "source": [
    "t1[1]"
   ]
  },
  {
   "cell_type": "code",
   "execution_count": 11,
   "id": "44c15211",
   "metadata": {},
   "outputs": [
    {
     "data": {
      "text/plain": [
       "12"
      ]
     },
     "execution_count": 11,
     "metadata": {},
     "output_type": "execute_result"
    }
   ],
   "source": [
    "t1[0]"
   ]
  },
  {
   "cell_type": "code",
   "execution_count": 12,
   "id": "0a3c32b5",
   "metadata": {},
   "outputs": [
    {
     "data": {
      "text/plain": [
       "(12, 45, 56, 'string', 9j)"
      ]
     },
     "execution_count": 12,
     "metadata": {},
     "output_type": "execute_result"
    }
   ],
   "source": [
    "t1[::2]"
   ]
  },
  {
   "cell_type": "code",
   "execution_count": 13,
   "id": "f2052c2f",
   "metadata": {},
   "outputs": [
    {
     "data": {
      "text/plain": [
       "(334, 56, 56, 345.435)"
      ]
     },
     "execution_count": 13,
     "metadata": {},
     "output_type": "execute_result"
    }
   ],
   "source": [
    "t1[1::2]"
   ]
  },
  {
   "cell_type": "code",
   "execution_count": 14,
   "id": "5946a3db",
   "metadata": {},
   "outputs": [
    {
     "data": {
      "text/plain": [
       "9j"
      ]
     },
     "execution_count": 14,
     "metadata": {},
     "output_type": "execute_result"
    }
   ],
   "source": [
    "t1[-1]"
   ]
  },
  {
   "cell_type": "code",
   "execution_count": 15,
   "id": "b0bf4421",
   "metadata": {},
   "outputs": [
    {
     "ename": "AttributeError",
     "evalue": "'tuple' object has no attribute 'append'",
     "output_type": "error",
     "traceback": [
      "\u001b[1;31m---------------------------------------------------------------------------\u001b[0m",
      "\u001b[1;31mAttributeError\u001b[0m                            Traceback (most recent call last)",
      "\u001b[1;32m<ipython-input-15-4df3ca8d3f88>\u001b[0m in \u001b[0;36m<module>\u001b[1;34m\u001b[0m\n\u001b[1;32m----> 1\u001b[1;33m \u001b[0mt1\u001b[0m\u001b[1;33m.\u001b[0m\u001b[0mappend\u001b[0m\u001b[1;33m(\u001b[0m\u001b[1;36m90\u001b[0m\u001b[1;33m)\u001b[0m\u001b[1;33m\u001b[0m\u001b[1;33m\u001b[0m\u001b[0m\n\u001b[0m",
      "\u001b[1;31mAttributeError\u001b[0m: 'tuple' object has no attribute 'append'"
     ]
    }
   ],
   "source": [
    "t1.append(90)"
   ]
  },
  {
   "cell_type": "code",
   "execution_count": 16,
   "id": "0a27e529",
   "metadata": {},
   "outputs": [
    {
     "data": {
      "text/plain": [
       "(12, 334, 45, 56, 56, 56, 'string', 345.435, 9j)"
      ]
     },
     "execution_count": 16,
     "metadata": {},
     "output_type": "execute_result"
    }
   ],
   "source": [
    "t1"
   ]
  },
  {
   "cell_type": "code",
   "execution_count": 17,
   "id": "4c1084e4",
   "metadata": {},
   "outputs": [
    {
     "data": {
      "text/plain": [
       "6"
      ]
     },
     "execution_count": 17,
     "metadata": {},
     "output_type": "execute_result"
    }
   ],
   "source": [
    "t1.index('string')"
   ]
  },
  {
   "cell_type": "code",
   "execution_count": 18,
   "id": "0d87aeb9",
   "metadata": {},
   "outputs": [
    {
     "data": {
      "text/plain": [
       "8"
      ]
     },
     "execution_count": 18,
     "metadata": {},
     "output_type": "execute_result"
    }
   ],
   "source": [
    "t1.index(9j)"
   ]
  },
  {
   "cell_type": "code",
   "execution_count": 19,
   "id": "99803b84",
   "metadata": {},
   "outputs": [],
   "source": [
    "t1 = (12,2,3,)\n",
    "t2 = (90,89,8,)"
   ]
  },
  {
   "cell_type": "code",
   "execution_count": 20,
   "id": "833b298d",
   "metadata": {},
   "outputs": [
    {
     "data": {
      "text/plain": [
       "(12, 2, 3, 90, 89, 8)"
      ]
     },
     "execution_count": 20,
     "metadata": {},
     "output_type": "execute_result"
    }
   ],
   "source": [
    "t1+t2 # appending/ concat"
   ]
  },
  {
   "cell_type": "code",
   "execution_count": 21,
   "id": "094313ab",
   "metadata": {},
   "outputs": [
    {
     "data": {
      "text/plain": [
       "(90, 89, 8, 90, 89, 8, 90, 89, 8)"
      ]
     },
     "execution_count": 21,
     "metadata": {},
     "output_type": "execute_result"
    }
   ],
   "source": [
    "l = list(t2*3)\n",
    "tuple(l)"
   ]
  },
  {
   "cell_type": "code",
   "execution_count": 22,
   "id": "39f66537",
   "metadata": {},
   "outputs": [
    {
     "data": {
      "text/plain": [
       "'SDCSDC'"
      ]
     },
     "execution_count": 22,
     "metadata": {},
     "output_type": "execute_result"
    }
   ],
   "source": [
    "\"SDC\"*2"
   ]
  },
  {
   "cell_type": "markdown",
   "id": "d07ba8c2",
   "metadata": {},
   "source": [
    "Sets\n",
    "\n",
    "\n",
    "\n"
   ]
  },
  {
   "cell_type": "markdown",
   "id": "28f0da69",
   "metadata": {},
   "source": [
    "- sets are mutable    \n",
    "- we can modify sets           \n",
    "- collection of different datatypes by {},\n",
    "- mutable, and unordered that is why no index concepts in set\n",
    "- set don't allow duplicate data"
   ]
  },
  {
   "cell_type": "code",
   "execution_count": 23,
   "id": "c167aab3",
   "metadata": {},
   "outputs": [
    {
     "name": "stdout",
     "output_type": "stream",
     "text": [
      "<class 'dict'>\n"
     ]
    }
   ],
   "source": [
    "s={}\n",
    "print(type(s))"
   ]
  },
  {
   "cell_type": "code",
   "execution_count": 24,
   "id": "6146e7cd",
   "metadata": {},
   "outputs": [
    {
     "data": {
      "text/plain": [
       "set"
      ]
     },
     "execution_count": 24,
     "metadata": {},
     "output_type": "execute_result"
    }
   ],
   "source": [
    "s={1}\n",
    "type(s)"
   ]
  },
  {
   "cell_type": "code",
   "execution_count": 25,
   "id": "2442b48d",
   "metadata": {},
   "outputs": [
    {
     "data": {
      "text/plain": [
       "set"
      ]
     },
     "execution_count": 25,
     "metadata": {},
     "output_type": "execute_result"
    }
   ],
   "source": [
    "s=set()\n",
    "type(s)"
   ]
  },
  {
   "cell_type": "code",
   "execution_count": 26,
   "id": "88aad3fa",
   "metadata": {},
   "outputs": [
    {
     "data": {
      "text/plain": [
       "{'Divya', 'Rahul', 'Supriya', 'reddy', 'srikanth'}"
      ]
     },
     "execution_count": 26,
     "metadata": {},
     "output_type": "execute_result"
    }
   ],
   "source": [
    "s1 = {\"Divya\", \"Supriya\", \"reddy\",\"Rahul\",\"reddy\",\"Rahul\",\"srikanth\"}\n",
    "s1"
   ]
  },
  {
   "cell_type": "code",
   "execution_count": 27,
   "id": "5648f5ca",
   "metadata": {},
   "outputs": [
    {
     "data": {
      "text/plain": [
       "['__and__',\n",
       " '__class__',\n",
       " '__contains__',\n",
       " '__delattr__',\n",
       " '__dir__',\n",
       " '__doc__',\n",
       " '__eq__',\n",
       " '__format__',\n",
       " '__ge__',\n",
       " '__getattribute__',\n",
       " '__gt__',\n",
       " '__hash__',\n",
       " '__iand__',\n",
       " '__init__',\n",
       " '__init_subclass__',\n",
       " '__ior__',\n",
       " '__isub__',\n",
       " '__iter__',\n",
       " '__ixor__',\n",
       " '__le__',\n",
       " '__len__',\n",
       " '__lt__',\n",
       " '__ne__',\n",
       " '__new__',\n",
       " '__or__',\n",
       " '__rand__',\n",
       " '__reduce__',\n",
       " '__reduce_ex__',\n",
       " '__repr__',\n",
       " '__ror__',\n",
       " '__rsub__',\n",
       " '__rxor__',\n",
       " '__setattr__',\n",
       " '__sizeof__',\n",
       " '__str__',\n",
       " '__sub__',\n",
       " '__subclasshook__',\n",
       " '__xor__',\n",
       " 'add',\n",
       " 'clear',\n",
       " 'copy',\n",
       " 'difference',\n",
       " 'difference_update',\n",
       " 'discard',\n",
       " 'intersection',\n",
       " 'intersection_update',\n",
       " 'isdisjoint',\n",
       " 'issubset',\n",
       " 'issuperset',\n",
       " 'pop',\n",
       " 'remove',\n",
       " 'symmetric_difference',\n",
       " 'symmetric_difference_update',\n",
       " 'union',\n",
       " 'update']"
      ]
     },
     "execution_count": 27,
     "metadata": {},
     "output_type": "execute_result"
    }
   ],
   "source": [
    "dir(set)\n"
   ]
  },
  {
   "cell_type": "code",
   "execution_count": 28,
   "id": "148bef43",
   "metadata": {},
   "outputs": [],
   "source": [
    "# adding new element\n",
    "s1.add(\"chandrakanth\")"
   ]
  },
  {
   "cell_type": "code",
   "execution_count": 29,
   "id": "73aed058",
   "metadata": {},
   "outputs": [
    {
     "data": {
      "text/plain": [
       "{'Divya', 'Rahul', 'Supriya', 'chandrakanth', 'reddy', 'srikanth'}"
      ]
     },
     "execution_count": 29,
     "metadata": {},
     "output_type": "execute_result"
    }
   ],
   "source": [
    "s1"
   ]
  },
  {
   "cell_type": "code",
   "execution_count": 30,
   "id": "d6a55451",
   "metadata": {},
   "outputs": [
    {
     "ename": "TypeError",
     "evalue": "'set' object is not subscriptable",
     "output_type": "error",
     "traceback": [
      "\u001b[1;31m---------------------------------------------------------------------------\u001b[0m",
      "\u001b[1;31mTypeError\u001b[0m                                 Traceback (most recent call last)",
      "\u001b[1;32m<ipython-input-30-bfed54b371ac>\u001b[0m in \u001b[0;36m<module>\u001b[1;34m\u001b[0m\n\u001b[1;32m----> 1\u001b[1;33m \u001b[0ms1\u001b[0m\u001b[1;33m[\u001b[0m\u001b[1;36m0\u001b[0m\u001b[1;33m]\u001b[0m\u001b[1;33m\u001b[0m\u001b[1;33m\u001b[0m\u001b[0m\n\u001b[0m",
      "\u001b[1;31mTypeError\u001b[0m: 'set' object is not subscriptable"
     ]
    }
   ],
   "source": [
    "s1[0]"
   ]
  },
  {
   "cell_type": "code",
   "execution_count": 31,
   "id": "a1f3e66e",
   "metadata": {},
   "outputs": [
    {
     "ename": "TypeError",
     "evalue": "'set' object is not subscriptable",
     "output_type": "error",
     "traceback": [
      "\u001b[1;31m---------------------------------------------------------------------------\u001b[0m",
      "\u001b[1;31mTypeError\u001b[0m                                 Traceback (most recent call last)",
      "\u001b[1;32m<ipython-input-31-cd4e1c954467>\u001b[0m in \u001b[0;36m<module>\u001b[1;34m\u001b[0m\n\u001b[1;32m----> 1\u001b[1;33m \u001b[0ms1\u001b[0m\u001b[1;33m[\u001b[0m\u001b[1;33m-\u001b[0m\u001b[1;36m1\u001b[0m\u001b[1;33m]\u001b[0m\u001b[1;33m\u001b[0m\u001b[1;33m\u001b[0m\u001b[0m\n\u001b[0m",
      "\u001b[1;31mTypeError\u001b[0m: 'set' object is not subscriptable"
     ]
    }
   ],
   "source": [
    "s1[-1]"
   ]
  },
  {
   "cell_type": "code",
   "execution_count": 32,
   "id": "86df7cab",
   "metadata": {},
   "outputs": [
    {
     "name": "stdout",
     "output_type": "stream",
     "text": [
      "Divya\n",
      "reddy\n",
      "srikanth\n",
      "Rahul\n",
      "Supriya\n",
      "chandrakanth\n"
     ]
    }
   ],
   "source": [
    "for i in s1:\n",
    "    print(i)"
   ]
  },
  {
   "cell_type": "code",
   "execution_count": 33,
   "id": "9faea86a",
   "metadata": {},
   "outputs": [],
   "source": [
    "s2 = s1.copy()"
   ]
  },
  {
   "cell_type": "code",
   "execution_count": 34,
   "id": "8cb51921",
   "metadata": {},
   "outputs": [
    {
     "data": {
      "text/plain": [
       "{'Divya', 'Rahul', 'Supriya', 'chandrakanth', 'reddy', 'srikanth'}"
      ]
     },
     "execution_count": 34,
     "metadata": {},
     "output_type": "execute_result"
    }
   ],
   "source": [
    "s2"
   ]
  },
  {
   "cell_type": "code",
   "execution_count": 35,
   "id": "c5d345f6",
   "metadata": {},
   "outputs": [],
   "source": [
    "s1.clear()"
   ]
  },
  {
   "cell_type": "code",
   "execution_count": 36,
   "id": "23650608",
   "metadata": {},
   "outputs": [
    {
     "data": {
      "text/plain": [
       "set()"
      ]
     },
     "execution_count": 36,
     "metadata": {},
     "output_type": "execute_result"
    }
   ],
   "source": [
    "s1"
   ]
  },
  {
   "cell_type": "code",
   "execution_count": 37,
   "id": "81af2942",
   "metadata": {},
   "outputs": [
    {
     "data": {
      "text/plain": [
       "{'Divya', 'Rahul', 'Supriya', 'chandrakanth', 'reddy', 'srikanth'}"
      ]
     },
     "execution_count": 37,
     "metadata": {},
     "output_type": "execute_result"
    }
   ],
   "source": [
    "s2"
   ]
  },
  {
   "cell_type": "code",
   "execution_count": 38,
   "id": "677d40df",
   "metadata": {},
   "outputs": [],
   "source": [
    "s2.update([1,2,3])"
   ]
  },
  {
   "cell_type": "code",
   "execution_count": 39,
   "id": "dbdb9abb",
   "metadata": {},
   "outputs": [
    {
     "data": {
      "text/plain": [
       "{1, 2, 3, 'Divya', 'Rahul', 'Supriya', 'chandrakanth', 'reddy', 'srikanth'}"
      ]
     },
     "execution_count": 39,
     "metadata": {},
     "output_type": "execute_result"
    }
   ],
   "source": [
    "s2"
   ]
  },
  {
   "cell_type": "code",
   "execution_count": 40,
   "id": "bd7f748f",
   "metadata": {},
   "outputs": [
    {
     "name": "stdout",
     "output_type": "stream",
     "text": [
      "Help on built-in function update:\n",
      "\n",
      "update(...) method of builtins.set instance\n",
      "    Update a set with the union of itself and others.\n",
      "\n"
     ]
    }
   ],
   "source": [
    "help(s2.update)"
   ]
  },
  {
   "cell_type": "code",
   "execution_count": 41,
   "id": "bf45ca88",
   "metadata": {},
   "outputs": [
    {
     "data": {
      "text/plain": [
       "{1, 2, 3, 'Divya', 'Rahul', 'Supriya', 'chandrakanth', 'reddy', 'srikanth'}"
      ]
     },
     "execution_count": 41,
     "metadata": {},
     "output_type": "execute_result"
    }
   ],
   "source": [
    "s2"
   ]
  },
  {
   "cell_type": "code",
   "execution_count": 42,
   "id": "3bb862d2",
   "metadata": {},
   "outputs": [
    {
     "data": {
      "text/plain": [
       "['__and__',\n",
       " '__class__',\n",
       " '__contains__',\n",
       " '__delattr__',\n",
       " '__dir__',\n",
       " '__doc__',\n",
       " '__eq__',\n",
       " '__format__',\n",
       " '__ge__',\n",
       " '__getattribute__',\n",
       " '__gt__',\n",
       " '__hash__',\n",
       " '__iand__',\n",
       " '__init__',\n",
       " '__init_subclass__',\n",
       " '__ior__',\n",
       " '__isub__',\n",
       " '__iter__',\n",
       " '__ixor__',\n",
       " '__le__',\n",
       " '__len__',\n",
       " '__lt__',\n",
       " '__ne__',\n",
       " '__new__',\n",
       " '__or__',\n",
       " '__rand__',\n",
       " '__reduce__',\n",
       " '__reduce_ex__',\n",
       " '__repr__',\n",
       " '__ror__',\n",
       " '__rsub__',\n",
       " '__rxor__',\n",
       " '__setattr__',\n",
       " '__sizeof__',\n",
       " '__str__',\n",
       " '__sub__',\n",
       " '__subclasshook__',\n",
       " '__xor__',\n",
       " 'add',\n",
       " 'clear',\n",
       " 'copy',\n",
       " 'difference',\n",
       " 'difference_update',\n",
       " 'discard',\n",
       " 'intersection',\n",
       " 'intersection_update',\n",
       " 'isdisjoint',\n",
       " 'issubset',\n",
       " 'issuperset',\n",
       " 'pop',\n",
       " 'remove',\n",
       " 'symmetric_difference',\n",
       " 'symmetric_difference_update',\n",
       " 'union',\n",
       " 'update']"
      ]
     },
     "execution_count": 42,
     "metadata": {},
     "output_type": "execute_result"
    }
   ],
   "source": [
    "s3={'Divya','Rahul','srikanth','supriya','chandrakanth',}\n",
    "dir(s3)"
   ]
  },
  {
   "cell_type": "code",
   "execution_count": 43,
   "id": "e52acc1d",
   "metadata": {},
   "outputs": [],
   "source": [
    "s3.update({\"Samyaktha\"})"
   ]
  },
  {
   "cell_type": "code",
   "execution_count": 44,
   "id": "f2a92ce9",
   "metadata": {},
   "outputs": [
    {
     "data": {
      "text/plain": [
       "{'Divya', 'Rahul', 'Samyaktha', 'chandrakanth', 'srikanth', 'supriya'}"
      ]
     },
     "execution_count": 44,
     "metadata": {},
     "output_type": "execute_result"
    }
   ],
   "source": [
    "s3"
   ]
  },
  {
   "cell_type": "code",
   "execution_count": 45,
   "id": "c2553a4a",
   "metadata": {},
   "outputs": [],
   "source": [
    "s4 = s3.copy()"
   ]
  },
  {
   "cell_type": "code",
   "execution_count": 46,
   "id": "7cbb270d",
   "metadata": {},
   "outputs": [],
   "source": [
    "s4.update({\"srivani\"})"
   ]
  },
  {
   "cell_type": "code",
   "execution_count": 47,
   "id": "8a8d081d",
   "metadata": {},
   "outputs": [
    {
     "data": {
      "text/plain": [
       "{'Divya',\n",
       " 'Rahul',\n",
       " 'Samyaktha',\n",
       " 'chandrakanth',\n",
       " 'srikanth',\n",
       " 'srivani',\n",
       " 'supriya'}"
      ]
     },
     "execution_count": 47,
     "metadata": {},
     "output_type": "execute_result"
    }
   ],
   "source": [
    "s4"
   ]
  },
  {
   "cell_type": "code",
   "execution_count": 48,
   "id": "0e30cf2f",
   "metadata": {},
   "outputs": [
    {
     "data": {
      "text/plain": [
       "{'Divya', 'Rahul', 'Samyaktha', 'chandrakanth', 'srikanth', 'supriya'}"
      ]
     },
     "execution_count": 48,
     "metadata": {},
     "output_type": "execute_result"
    }
   ],
   "source": [
    "s4.intersection(s3)   #  common data from both"
   ]
  },
  {
   "cell_type": "code",
   "execution_count": 49,
   "id": "385522ff",
   "metadata": {},
   "outputs": [
    {
     "data": {
      "text/plain": [
       "{'Divya',\n",
       " 'Rahul',\n",
       " 'Samyaktha',\n",
       " 'chandrakanth',\n",
       " 'srikanth',\n",
       " 'srivani',\n",
       " 'supriya'}"
      ]
     },
     "execution_count": 49,
     "metadata": {},
     "output_type": "execute_result"
    }
   ],
   "source": [
    "s4.union(s3)   #all"
   ]
  },
  {
   "cell_type": "code",
   "execution_count": 50,
   "id": "70e476f5",
   "metadata": {},
   "outputs": [
    {
     "data": {
      "text/plain": [
       "True"
      ]
     },
     "execution_count": 50,
     "metadata": {},
     "output_type": "execute_result"
    }
   ],
   "source": [
    "s5 = {1,2,3,4,5}\n",
    "s6 = {2,5}\n",
    "s5.issuperset(s6)"
   ]
  },
  {
   "cell_type": "code",
   "execution_count": 51,
   "id": "9e1a7687",
   "metadata": {},
   "outputs": [
    {
     "data": {
      "text/plain": [
       "False"
      ]
     },
     "execution_count": 51,
     "metadata": {},
     "output_type": "execute_result"
    }
   ],
   "source": [
    "s6.issuperset(s5)"
   ]
  },
  {
   "cell_type": "code",
   "execution_count": 53,
   "id": "4b7ddd4c",
   "metadata": {},
   "outputs": [
    {
     "data": {
      "text/plain": [
       "True"
      ]
     },
     "execution_count": 53,
     "metadata": {},
     "output_type": "execute_result"
    }
   ],
   "source": [
    "s6.issuperset(s6)"
   ]
  },
  {
   "cell_type": "code",
   "execution_count": 54,
   "id": "28ae6b99",
   "metadata": {},
   "outputs": [
    {
     "data": {
      "text/plain": [
       "{'Divya', 'Rahul', 'Samyaktha', 'chandrakanth', 'srikanth', 'supriya'}"
      ]
     },
     "execution_count": 54,
     "metadata": {},
     "output_type": "execute_result"
    }
   ],
   "source": [
    "s3"
   ]
  },
  {
   "cell_type": "code",
   "execution_count": 55,
   "id": "6aacc996",
   "metadata": {},
   "outputs": [
    {
     "data": {
      "text/plain": [
       "'Divya'"
      ]
     },
     "execution_count": 55,
     "metadata": {},
     "output_type": "execute_result"
    }
   ],
   "source": [
    "s3.pop()"
   ]
  },
  {
   "cell_type": "code",
   "execution_count": 56,
   "id": "9f0f8cb4",
   "metadata": {},
   "outputs": [
    {
     "data": {
      "text/plain": [
       "{'Rahul', 'Samyaktha', 'chandrakanth', 'srikanth', 'supriya'}"
      ]
     },
     "execution_count": 56,
     "metadata": {},
     "output_type": "execute_result"
    }
   ],
   "source": [
    "s3"
   ]
  },
  {
   "cell_type": "code",
   "execution_count": 57,
   "id": "35f7051b",
   "metadata": {},
   "outputs": [
    {
     "data": {
      "text/plain": [
       "'Samyaktha'"
      ]
     },
     "execution_count": 57,
     "metadata": {},
     "output_type": "execute_result"
    }
   ],
   "source": [
    "s3.pop()"
   ]
  },
  {
   "cell_type": "code",
   "execution_count": 58,
   "id": "b4127c71",
   "metadata": {},
   "outputs": [
    {
     "data": {
      "text/plain": [
       "{'Rahul', 'chandrakanth', 'srikanth', 'supriya'}"
      ]
     },
     "execution_count": 58,
     "metadata": {},
     "output_type": "execute_result"
    }
   ],
   "source": [
    "s3"
   ]
  },
  {
   "cell_type": "code",
   "execution_count": 60,
   "id": "2230dae7",
   "metadata": {},
   "outputs": [
    {
     "ename": "KeyError",
     "evalue": "'sd'",
     "output_type": "error",
     "traceback": [
      "\u001b[1;31m---------------------------------------------------------------------------\u001b[0m",
      "\u001b[1;31mKeyError\u001b[0m                                  Traceback (most recent call last)",
      "\u001b[1;32m<ipython-input-60-6da708cc763c>\u001b[0m in \u001b[0;36m<module>\u001b[1;34m\u001b[0m\n\u001b[1;32m----> 1\u001b[1;33m \u001b[0ms3\u001b[0m\u001b[1;33m.\u001b[0m\u001b[0mremove\u001b[0m\u001b[1;33m(\u001b[0m\u001b[1;34m\"sd\"\u001b[0m\u001b[1;33m)\u001b[0m\u001b[1;33m\u001b[0m\u001b[1;33m\u001b[0m\u001b[0m\n\u001b[0m",
      "\u001b[1;31mKeyError\u001b[0m: 'sd'"
     ]
    }
   ],
   "source": [
    "s3.remove(\"sd\")"
   ]
  },
  {
   "cell_type": "code",
   "execution_count": 61,
   "id": "d1a4e224",
   "metadata": {},
   "outputs": [
    {
     "data": {
      "text/plain": [
       "{'Rahul', 'chandrakanth', 'srikanth', 'supriya'}"
      ]
     },
     "execution_count": 61,
     "metadata": {},
     "output_type": "execute_result"
    }
   ],
   "source": [
    "s3"
   ]
  },
  {
   "cell_type": "code",
   "execution_count": 62,
   "id": "f52ffea3",
   "metadata": {},
   "outputs": [
    {
     "data": {
      "text/plain": [
       "{1, 3, 4}"
      ]
     },
     "execution_count": 62,
     "metadata": {},
     "output_type": "execute_result"
    }
   ],
   "source": [
    "s5.difference(s6)   #"
   ]
  },
  {
   "cell_type": "code",
   "execution_count": 63,
   "id": "58befb7e",
   "metadata": {},
   "outputs": [
    {
     "data": {
      "text/plain": [
       "set()"
      ]
     },
     "execution_count": 63,
     "metadata": {},
     "output_type": "execute_result"
    }
   ],
   "source": [
    "s6.difference(s5)   #"
   ]
  },
  {
   "cell_type": "code",
   "execution_count": 64,
   "id": "70ef654b",
   "metadata": {},
   "outputs": [
    {
     "data": {
      "text/plain": [
       "{2, 5}"
      ]
     },
     "execution_count": 64,
     "metadata": {},
     "output_type": "execute_result"
    }
   ],
   "source": [
    "s6.intersection(s5)"
   ]
  },
  {
   "cell_type": "code",
   "execution_count": 65,
   "id": "a6e73b03",
   "metadata": {},
   "outputs": [
    {
     "data": {
      "text/plain": [
       "{2, 5}"
      ]
     },
     "execution_count": 65,
     "metadata": {},
     "output_type": "execute_result"
    }
   ],
   "source": [
    "s6"
   ]
  },
  {
   "cell_type": "code",
   "execution_count": 66,
   "id": "bb7dc727",
   "metadata": {},
   "outputs": [
    {
     "data": {
      "text/plain": [
       "{1, 2, 3, 4, 5}"
      ]
     },
     "execution_count": 66,
     "metadata": {},
     "output_type": "execute_result"
    }
   ],
   "source": [
    "s5"
   ]
  },
  {
   "cell_type": "code",
   "execution_count": 67,
   "id": "fde3b8f9",
   "metadata": {},
   "outputs": [
    {
     "data": {
      "text/plain": [
       "{1, 3, 4}"
      ]
     },
     "execution_count": 67,
     "metadata": {},
     "output_type": "execute_result"
    }
   ],
   "source": [
    "s6.symmetric_difference(s5)"
   ]
  },
  {
   "cell_type": "code",
   "execution_count": 68,
   "id": "495114f8",
   "metadata": {},
   "outputs": [
    {
     "data": {
      "text/plain": [
       "set()"
      ]
     },
     "execution_count": 68,
     "metadata": {},
     "output_type": "execute_result"
    }
   ],
   "source": [
    "s5.symmetric_difference(s5)"
   ]
  },
  {
   "cell_type": "code",
   "execution_count": 69,
   "id": "674af0c7",
   "metadata": {},
   "outputs": [
    {
     "data": {
      "text/plain": [
       "{1, 3, 4}"
      ]
     },
     "execution_count": 69,
     "metadata": {},
     "output_type": "execute_result"
    }
   ],
   "source": [
    "s5.symmetric_difference(s6)  #uncommon data"
   ]
  },
  {
   "cell_type": "code",
   "execution_count": 70,
   "id": "30625da1",
   "metadata": {},
   "outputs": [
    {
     "data": {
      "text/plain": [
       "{1, 2, 3, 4, 5}"
      ]
     },
     "execution_count": 70,
     "metadata": {},
     "output_type": "execute_result"
    }
   ],
   "source": [
    "s5"
   ]
  },
  {
   "cell_type": "code",
   "execution_count": 71,
   "id": "41bd37d1",
   "metadata": {},
   "outputs": [
    {
     "data": {
      "text/plain": [
       "{2, 5}"
      ]
     },
     "execution_count": 71,
     "metadata": {},
     "output_type": "execute_result"
    }
   ],
   "source": [
    "s6"
   ]
  }
 ],
 "metadata": {
  "kernelspec": {
   "display_name": "Python 3",
   "language": "python",
   "name": "python3"
  },
  "language_info": {
   "codemirror_mode": {
    "name": "ipython",
    "version": 3
   },
   "file_extension": ".py",
   "mimetype": "text/x-python",
   "name": "python",
   "nbconvert_exporter": "python",
   "pygments_lexer": "ipython3",
   "version": "3.8.8"
  }
 },
 "nbformat": 4,
 "nbformat_minor": 5
}
