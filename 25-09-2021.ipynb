{
 "cells": [
  {
   "cell_type": "markdown",
   "id": "e5812fba",
   "metadata": {},
   "source": [
    "def Function_Name(parameters):     #\n",
    "Function Definition\n",
    "\n",
    "        body of Function           #             \n",
    "Function Body\n",
    "        return result\n",
    "\n",
    "Function_Name(arguments)            # Function Calling\n",
    "    "
   ]
  },
  {
   "cell_type": "code",
   "execution_count": 2,
   "id": "25cf34f2",
   "metadata": {},
   "outputs": [
    {
     "name": "stdout",
     "output_type": "stream",
     "text": [
      "23698\n"
     ]
    }
   ],
   "source": [
    "# write a function to add 2 numbers\n",
    "def addition(n1,n2):\n",
    "    result = n1+n2\n",
    "    return result\n",
    "\n",
    "print(addition(19009,4689))"
   ]
  },
  {
   "cell_type": "code",
   "execution_count": 4,
   "id": "95dd02de",
   "metadata": {},
   "outputs": [
    {
     "name": "stdout",
     "output_type": "stream",
     "text": [
      "23698\n",
      "None\n"
     ]
    }
   ],
   "source": [
    "def addition(n1,n2):\n",
    "    result = n1+n2\n",
    "    print(n1+n2)\n",
    "print(addition(19009,4689))    "
   ]
  },
  {
   "cell_type": "code",
   "execution_count": 5,
   "id": "250be038",
   "metadata": {},
   "outputs": [
    {
     "name": "stdout",
     "output_type": "stream",
     "text": [
      "9365\n"
     ]
    }
   ],
   "source": [
    "addition(8789,576)"
   ]
  },
  {
   "cell_type": "code",
   "execution_count": 6,
   "id": "5dc86939",
   "metadata": {},
   "outputs": [
    {
     "name": "stdout",
     "output_type": "stream",
     "text": [
      "1442\n"
     ]
    }
   ],
   "source": [
    "addition(866,576)"
   ]
  },
  {
   "cell_type": "code",
   "execution_count": 7,
   "id": "35048e6a",
   "metadata": {},
   "outputs": [
    {
     "name": "stdout",
     "output_type": "stream",
     "text": [
      "954\n"
     ]
    }
   ],
   "source": [
    "addition(866,88)"
   ]
  },
  {
   "cell_type": "code",
   "execution_count": 10,
   "id": "044743a4",
   "metadata": {},
   "outputs": [
    {
     "data": {
      "text/plain": [
       "True"
      ]
     },
     "execution_count": 10,
     "metadata": {},
     "output_type": "execute_result"
    }
   ],
   "source": [
    "# Task\n",
    "# define a function to check given year is leap or not\n",
    "def Leap_Yr(year):\n",
    "    if(year%4 == 0) | (year%400== 0 & year%100 !=0):\n",
    "        return True\n",
    "    else:\n",
    "            return False\n",
    "Leap_Yr(2020)        "
   ]
  },
  {
   "cell_type": "code",
   "execution_count": 11,
   "id": "0b434a57",
   "metadata": {},
   "outputs": [],
   "source": [
    "# 1.Without Argument and without return value\n",
    "# write a function to check given number is positive or not\n",
    "def Check_Number():\n",
    "    n = int(input(\"Enter any number\"))\n",
    "    if n<0 :\n",
    "        print(\"Negative Number\")\n",
    "    else:\n",
    "        print(\"Positive Number\")"
   ]
  },
  {
   "cell_type": "code",
   "execution_count": 12,
   "id": "0abcfaac",
   "metadata": {},
   "outputs": [
    {
     "name": "stdout",
     "output_type": "stream",
     "text": [
      "Enter any number-999\n",
      "Negative Number\n"
     ]
    }
   ],
   "source": [
    "Check_Number()"
   ]
  },
  {
   "cell_type": "code",
   "execution_count": 13,
   "id": "694c371d",
   "metadata": {},
   "outputs": [],
   "source": [
    "# 2. with Argument and without return value\n",
    "# write a function to check given number is positive or not\n",
    "def Check_Number(n):\n",
    "    if n<0 :\n",
    "        print(\"Negative Number\")\n",
    "    else:\n",
    "        print(\"Positive Number\")"
   ]
  },
  {
   "cell_type": "code",
   "execution_count": 14,
   "id": "6b527cb8",
   "metadata": {},
   "outputs": [
    {
     "name": "stdout",
     "output_type": "stream",
     "text": [
      "Positive Number\n"
     ]
    }
   ],
   "source": [
    "Check_Number(90)"
   ]
  },
  {
   "cell_type": "code",
   "execution_count": 20,
   "id": "7022f0ab",
   "metadata": {},
   "outputs": [
    {
     "name": "stdout",
     "output_type": "stream",
     "text": [
      "enter a value4567\n"
     ]
    },
    {
     "data": {
      "text/plain": [
       "'Odd Number'"
      ]
     },
     "execution_count": 20,
     "metadata": {},
     "output_type": "execute_result"
    }
   ],
   "source": [
    "# 3. without Argument and with return value\n",
    "# write a function to check given number is even or not\n",
    "def Even_Check():\n",
    "    n = int(input(\"enter a value\"))\n",
    "    \n",
    "    if n%2==0:\n",
    "        return \"Even Number\"\n",
    "    else:\n",
    "        return \"Odd Number\"\n",
    "Even_Check()"
   ]
  },
  {
   "cell_type": "code",
   "execution_count": 21,
   "id": "5a5d0cd2",
   "metadata": {},
   "outputs": [
    {
     "data": {
      "text/plain": [
       "22"
      ]
     },
     "execution_count": 21,
     "metadata": {},
     "output_type": "execute_result"
    }
   ],
   "source": [
    "# 4.with Argument and with return value\n",
    "# write a Function to return a absolute value\n",
    "def ABS_val(n):\n",
    "    if n<0:\n",
    "        return -(n)\n",
    "    else:\n",
    "        return n\n",
    "ABS_val(22)"
   ]
  },
  {
   "cell_type": "code",
   "execution_count": 22,
   "id": "d1b518b9",
   "metadata": {},
   "outputs": [
    {
     "name": "stdout",
     "output_type": "stream",
     "text": [
      "900\n"
     ]
    }
   ],
   "source": [
    "print(ABS_val(900))"
   ]
  },
  {
   "cell_type": "code",
   "execution_count": 23,
   "id": "8977add5",
   "metadata": {},
   "outputs": [
    {
     "data": {
      "text/plain": [
       "76876"
      ]
     },
     "execution_count": 23,
     "metadata": {},
     "output_type": "execute_result"
    }
   ],
   "source": [
    "ABS_val(76876)"
   ]
  },
  {
   "cell_type": "code",
   "execution_count": 1,
   "id": "a9cd56a3",
   "metadata": {},
   "outputs": [
    {
     "name": "stdout",
     "output_type": "stream",
     "text": [
      "22\n"
     ]
    }
   ],
   "source": [
    "def ABS_val(n):\n",
    "    if n<0:\n",
    "        print(-n)\n",
    "    else:\n",
    "        print(n)\n",
    "ABS_val(-22)        "
   ]
  },
  {
   "cell_type": "code",
   "execution_count": 2,
   "id": "bc8d222f",
   "metadata": {},
   "outputs": [
    {
     "name": "stdout",
     "output_type": "stream",
     "text": [
      "90\n",
      "None\n"
     ]
    }
   ],
   "source": [
    "print(ABS_val(90))"
   ]
  },
  {
   "cell_type": "code",
   "execution_count": 3,
   "id": "c709ff7d",
   "metadata": {},
   "outputs": [
    {
     "data": {
      "text/plain": [
       "4"
      ]
     },
     "execution_count": 3,
     "metadata": {},
     "output_type": "execute_result"
    }
   ],
   "source": [
    "-2  -- 2\n",
    "2    -- 2"
   ]
  },
  {
   "cell_type": "code",
   "execution_count": 4,
   "id": "316a5c9e",
   "metadata": {},
   "outputs": [
    {
     "data": {
      "text/plain": [
       "48"
      ]
     },
     "execution_count": 4,
     "metadata": {},
     "output_type": "execute_result"
    }
   ],
   "source": [
    "ord(\"A\") # to ASCII\n",
    "ord('0')"
   ]
  },
  {
   "cell_type": "code",
   "execution_count": 5,
   "id": "b170c663",
   "metadata": {},
   "outputs": [
    {
     "data": {
      "text/plain": [
       "4543"
      ]
     },
     "execution_count": 5,
     "metadata": {},
     "output_type": "execute_result"
    }
   ],
   "source": [
    "int(\"4543\")"
   ]
  },
  {
   "cell_type": "code",
   "execution_count": 6,
   "id": "d4e72eb9",
   "metadata": {
    "scrolled": true
   },
   "outputs": [
    {
     "ename": "SyntaxError",
     "evalue": "cannot assign to operator (<ipython-input-6-dcca48d0df91>, line 3)",
     "output_type": "error",
     "traceback": [
      "\u001b[1;36m  File \u001b[1;32m\"<ipython-input-6-dcca48d0df91>\"\u001b[1;36m, line \u001b[1;32m3\u001b[0m\n\u001b[1;33m    -123     =123\u001b[0m\n\u001b[1;37m    ^\u001b[0m\n\u001b[1;31mSyntaxError\u001b[0m\u001b[1;31m:\u001b[0m cannot assign to operator\n"
     ]
    }
   ],
   "source": [
    "a = 123\n",
    "a  = -123\n",
    "-123     =123"
   ]
  },
  {
   "cell_type": "code",
   "execution_count": null,
   "id": "8bb7f2d1",
   "metadata": {},
   "outputs": [],
   "source": []
  }
 ],
 "metadata": {
  "kernelspec": {
   "display_name": "Python 3",
   "language": "python",
   "name": "python3"
  },
  "language_info": {
   "codemirror_mode": {
    "name": "ipython",
    "version": 3
   },
   "file_extension": ".py",
   "mimetype": "text/x-python",
   "name": "python",
   "nbconvert_exporter": "python",
   "pygments_lexer": "ipython3",
   "version": "3.8.8"
  }
 },
 "nbformat": 4,
 "nbformat_minor": 5
}
